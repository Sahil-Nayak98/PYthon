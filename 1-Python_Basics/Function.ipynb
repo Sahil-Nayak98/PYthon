{
 "cells": [
  {
   "cell_type": "code",
   "execution_count": null,
   "id": "0979c8b5",
   "metadata": {},
   "outputs": [],
   "source": [
    " ### variable length arguments\n",
    " ### positional arguments\n",
    "def print_numbers(*args):\n",
    "    for number in name:\n",
    "        print(number)"
   ]
  },
  {
   "cell_type": "code",
   "execution_count": 2,
   "id": "f8f43ad0",
   "metadata": {},
   "outputs": [
    {
     "name": "stdout",
     "output_type": "stream",
     "text": [
      "1\n",
      "2\n",
      "3\n",
      "4\n",
      "5\n",
      "6\n",
      "sahil\n"
     ]
    }
   ],
   "source": [
    "print_numbers(1,2,3,4,5,6,'sahil')"
   ]
  },
  {
   "cell_type": "code",
   "execution_count": 4,
   "id": "3a472e06",
   "metadata": {},
   "outputs": [],
   "source": [
    "## keyword arguments\n",
    "def print_detail(**kwargs):\n",
    "    for key,value in kwargs.items():\n",
    "        print(f\"{key}:{value}\")"
   ]
  },
  {
   "cell_type": "code",
   "execution_count": 6,
   "id": "0155615d",
   "metadata": {},
   "outputs": [
    {
     "name": "stdout",
     "output_type": "stream",
     "text": [
      "name:sahil\n",
      "age:24\n",
      "grade:A\n"
     ]
    }
   ],
   "source": [
    "print_detail(name=\"sahil\",age=\"24\",grade='A')"
   ]
  },
  {
   "cell_type": "code",
   "execution_count": 8,
   "id": "56a1f7a3",
   "metadata": {},
   "outputs": [
    {
     "name": "stdout",
     "output_type": "stream",
     "text": [
      "(6, 2)\n"
     ]
    }
   ],
   "source": [
    "### return mulyiple values in python\n",
    "def mult(a,b):\n",
    "    return a*b,a\n",
    "result=mult(2,3)\n",
    "print(result)    "
   ]
  },
  {
   "cell_type": "markdown",
   "id": "8922aea7",
   "metadata": {},
   "source": [
    "1: Temperature Conversion\n"
   ]
  },
  {
   "cell_type": "code",
   "execution_count": null,
   "id": "582fca02",
   "metadata": {},
   "outputs": [],
   "source": [
    "def temp_convert(temp,unit):\n",
    "    \"\"\"This fuction converts temp between celsius to farenheit \"\"\"\n",
    "    if unit=='C':\n",
    "        return temp * 9/5 + 32\n",
    "    elif unit==\"F\":\n",
    "           return (temp-32) *5/9\n",
    "    else:\n",
    "        return None\n",
    "print(temp_convert())                "
   ]
  },
  {
   "cell_type": "markdown",
   "id": "6a586dde",
   "metadata": {},
   "source": [
    "Calculate total cost of items in shopping cart\n"
   ]
  },
  {
   "cell_type": "code",
   "execution_count": 2,
   "id": "4f184b86",
   "metadata": {},
   "outputs": [
    {
     "name": "stdout",
     "output_type": "stream",
     "text": [
      "5.7\n"
     ]
    }
   ],
   "source": [
    "def calc_total_cost(cart):\n",
    "    total_cost= 0\n",
    "    for item in cart:\n",
    "        total_cost+=item['price']* item['quantity']\n",
    "    return total_cost\n",
    "## Example Cart data\n",
    "cart=[{'name':'Apple','price':0.8,'quantity':4},\n",
    "      {'name':'Orange','price':0.5,'quantity':5}]\n",
    "final_cost=calc_total_cost(cart)\n",
    "print(final_cost)\n"
   ]
  },
  {
   "cell_type": "code",
   "execution_count": 4,
   "id": "e776b360",
   "metadata": {},
   "outputs": [
    {
     "name": "stdout",
     "output_type": "stream",
     "text": [
      "True\n"
     ]
    }
   ],
   "source": [
    "def is_pallindrome(s):\n",
    "    s=s.lower().replace(\" \",\"\")\n",
    "    return s==s[::-1]\n",
    "\n",
    "print(is_pallindrome(\"ABCDCBA\"))"
   ]
  },
  {
   "cell_type": "code",
   "execution_count": 5,
   "id": "3f404a98",
   "metadata": {},
   "outputs": [
    {
     "name": "stdout",
     "output_type": "stream",
     "text": [
      "120\n"
     ]
    }
   ],
   "source": [
    "def fact(n):\n",
    "    if(n==0):\n",
    "        return 1\n",
    "    else:\n",
    "        return n*fact(n-1)\n",
    "    \n",
    "print(fact(5))    "
   ]
  },
  {
   "cell_type": "code",
   "execution_count": null,
   "id": "9fea28b9",
   "metadata": {},
   "outputs": [
    {
     "name": "stdout",
     "output_type": "stream",
     "text": [
      "{1: 2, 2: 3, 3: 4, 4: 1}\n"
     ]
    }
   ],
   "source": [
    "## function to read a file and count the frequency of each word\n",
    "## list of no. in dict\n",
    "number=[1,1,2,2,2,3,3,3,3,4]\n",
    "freq={}\n",
    "for num in number:\n",
    "    if (num in freq):\n",
    "        freq[num]+=1\n",
    "    else:\n",
    "        freq[num]=1\n",
    "\n",
    "print(freq)            \n"
   ]
  },
  {
   "cell_type": "code",
   "execution_count": 1,
   "id": "f1c6cee4",
   "metadata": {},
   "outputs": [
    {
     "name": "stdout",
     "output_type": "stream",
     "text": [
      "{'hello': 1, 'world': 1, 'how': 1, 'are': 1, 'you': 1, 'my': 2, 'name': 2, 'is': 2, 'sahil': 1, 'mothers': 1, 'tanushree': 1}\n"
     ]
    }
   ],
   "source": [
    "## function to read a file and count the frequency of each word\n",
    "def count_word_freq(file_path):\n",
    "    word_count={}\n",
    "    with open(file_path,'r') as file:\n",
    "        for line in file:\n",
    "            words=line.split()\n",
    "            for word in words:\n",
    "                word=word.lower().strip('.,!?;:\"\\'')\n",
    "                word_count[word]=word_count.get(word,0)+1\n",
    "\n",
    "    return word_count\n",
    "filepath='sample.txt'\n",
    "word_freq=count_word_freq(filepath)\n",
    "print(word_freq)            "
   ]
  },
  {
   "cell_type": "markdown",
   "id": "943a8977",
   "metadata": {},
   "source": [
    "Validate an email address"
   ]
  },
  {
   "cell_type": "code",
   "execution_count": null,
   "id": "4d23d7fe",
   "metadata": {},
   "outputs": [],
   "source": [
    "import re\n",
    "\n",
    "def is_valid_email(email):\n",
    "    pattern=r'^[a-zA-Z0-9_.+-]+@[a-zA-Z0-9-]+\\.[a-zA-Z0-9-.]+$'"
   ]
  },
  {
   "cell_type": "code",
   "execution_count": null,
   "id": "17c51557",
   "metadata": {},
   "outputs": [],
   "source": [
    "## Lambda function is a small function defined using lambda \n",
    "## keyword.they can have any no. of arguments but only one expression."
   ]
  },
  {
   "cell_type": "code",
   "execution_count": null,
   "id": "a0fd73d9",
   "metadata": {},
   "outputs": [
    {
     "data": {
      "text/plain": [
       "<function __main__.<lambda>(arguments)>"
      ]
     },
     "execution_count": 1,
     "metadata": {},
     "output_type": "execute_result"
    }
   ],
   "source": [
    "## SYNTAX of lambdaa: lambda arguments:expression"
   ]
  },
  {
   "cell_type": "code",
   "execution_count": 2,
   "id": "07c53eee",
   "metadata": {},
   "outputs": [
    {
     "name": "stdout",
     "output_type": "stream",
     "text": [
      "11\n"
     ]
    }
   ],
   "source": [
    "addition=lambda a,b:a+b\n",
    "type(addition)\n",
    "print(addition(5,6))"
   ]
  },
  {
   "cell_type": "code",
   "execution_count": 4,
   "id": "d2ce05b7",
   "metadata": {},
   "outputs": [
    {
     "data": {
      "text/plain": [
       "[1, 4, 9, 16, 25, 36]"
      ]
     },
     "execution_count": 4,
     "metadata": {},
     "output_type": "execute_result"
    }
   ],
   "source": [
    "## map()- applies a funtion to all items in a list\n",
    "number=[1,2,3,4,5,6]\n",
    "list(map(lambda x:x**2,number))"
   ]
  },
  {
   "cell_type": "code",
   "execution_count": 5,
   "id": "311a3a21",
   "metadata": {},
   "outputs": [
    {
     "name": "stdout",
     "output_type": "stream",
     "text": [
      "[6, 6, 9]\n"
     ]
    }
   ],
   "source": [
    "# map multiple iterables\n",
    "num1=[1,2,3]\n",
    "num2=[5,4,6]\n",
    "add_num=list(map(lambda x,y:x+y,num1,num2))\n",
    "print(add_num)"
   ]
  },
  {
   "cell_type": "code",
   "execution_count": 6,
   "id": "4294fe26",
   "metadata": {},
   "outputs": [
    {
     "name": "stdout",
     "output_type": "stream",
     "text": [
      "[1, 2, 3]\n"
     ]
    }
   ],
   "source": [
    "# map to convert list of strings to integers\n",
    "str_num=['1','2','3']\n",
    "int_num=list(map(int,str_num))\n",
    "print(int_num)\n"
   ]
  },
  {
   "cell_type": "code",
   "execution_count": 7,
   "id": "859b6b0c",
   "metadata": {},
   "outputs": [
    {
     "name": "stdout",
     "output_type": "stream",
     "text": [
      "['APPLE', 'BANANA', 'CHERRY']\n"
     ]
    }
   ],
   "source": [
    "words=['apple','banana','cherry']\n",
    "upper_case=list(map(str.upper,words))\n",
    "print(upper_case)"
   ]
  },
  {
   "cell_type": "code",
   "execution_count": 4,
   "id": "45bac601",
   "metadata": {},
   "outputs": [
    {
     "data": {
      "text/plain": [
       "['sahil', 'aditya']"
      ]
     },
     "execution_count": 4,
     "metadata": {},
     "output_type": "execute_result"
    }
   ],
   "source": [
    "def get_name(person):\n",
    "    return person['name']\n",
    "people=[{'name':'sahil','age':23},{'name':'aditya','age':22}]\n",
    "list(map(get_name,people))"
   ]
  },
  {
   "cell_type": "code",
   "execution_count": null,
   "id": "3ebc0a1f",
   "metadata": {},
   "outputs": [],
   "source": [
    "### filter function\n",
    "## the filter function constucts an iterator for elements\n",
    "## of an iterable for which a function true.\n"
   ]
  },
  {
   "cell_type": "code",
   "execution_count": 6,
   "id": "883cd60e",
   "metadata": {},
   "outputs": [],
   "source": [
    "def even (num):\n",
    "    if num%2==0:\n",
    "        return True"
   ]
  },
  {
   "cell_type": "code",
   "execution_count": 12,
   "id": "4ebe8032",
   "metadata": {},
   "outputs": [
    {
     "data": {
      "text/plain": [
       "True"
      ]
     },
     "execution_count": 12,
     "metadata": {},
     "output_type": "execute_result"
    }
   ],
   "source": [
    "even(24)"
   ]
  },
  {
   "cell_type": "code",
   "execution_count": 9,
   "id": "fc5e6918",
   "metadata": {},
   "outputs": [
    {
     "data": {
      "text/plain": [
       "[2, 4, 6, 8, 10, 12]"
      ]
     },
     "execution_count": 9,
     "metadata": {},
     "output_type": "execute_result"
    }
   ],
   "source": [
    "lst=[1,2,3,4,5,6,7,8,9,10,11,12]\n",
    "#list(map(even,lst))\n",
    "list(filter(even,lst))"
   ]
  },
  {
   "cell_type": "code",
   "execution_count": 17,
   "id": "660f8309",
   "metadata": {},
   "outputs": [
    {
     "name": "stdout",
     "output_type": "stream",
     "text": [
      "[6, 7, 8]\n"
     ]
    }
   ],
   "source": [
    "## filter with lambda function\n",
    "numbers=[1,2,3,4,5,6,7,8]\n",
    "greater_num=list(filter(lambda x:x>5,numbers))\n",
    "print(greater_num)"
   ]
  },
  {
   "cell_type": "code",
   "execution_count": 19,
   "id": "3d698e17",
   "metadata": {},
   "outputs": [
    {
     "name": "stdout",
     "output_type": "stream",
     "text": [
      "[6, 8]\n"
     ]
    }
   ],
   "source": [
    "even_and_greater_num=list(filter(lambda x:x>5 and x%2==0,numbers))\n",
    "print(even_and_greater_num)"
   ]
  },
  {
   "cell_type": "code",
   "execution_count": 21,
   "id": "df4e5e1c",
   "metadata": {},
   "outputs": [
    {
     "name": "stdout",
     "output_type": "stream",
     "text": [
      "[{'name': 'sabya', 'age': 56}, {'name': 'satya', 'age': 27}]\n"
     ]
    }
   ],
   "source": [
    "## filter to check age is greater than 25 in dictionary\n",
    "people=[{'name':'sahil','age':23},{'name':'sabya','age':56}\n",
    "        ,{'name':'satya','age':27}]\n",
    "def age_greater_25(person):\n",
    "    return person['age']>25\n",
    "age=list(filter(age_greater_25,people))\n",
    "print(age)"
   ]
  },
  {
   "cell_type": "code",
   "execution_count": 5,
   "id": "95139b07",
   "metadata": {},
   "outputs": [
    {
     "name": "stdout",
     "output_type": "stream",
     "text": [
      "positional arguments :1\n",
      "positional arguments :2\n",
      "positional arguments :3\n",
      "positional arguments :4\n",
      "positional arguments :sahil\n",
      "keyword Argument :name:ram\n",
      "keyword Argument :age:22\n",
      "keyword Argument :country:India\n"
     ]
    }
   ],
   "source": [
    "# merging both positional arguments and keyword arguments\n",
    "def print_details(*args,**kwargs):\n",
    "    for val in args:\n",
    "        print(f\"positional arguments :{val}\")\n",
    "    for key,value in kwargs.items():\n",
    "        print(f\"keyword Argument :{key}:{value}\")\n",
    "print_details(1,2,3,4,\"sahil\",name=\"ram\",age=\"22\",country=\"India\")   "
   ]
  },
  {
   "cell_type": "code",
   "execution_count": null,
   "id": "6f8d850d",
   "metadata": {},
   "outputs": [],
   "source": []
  }
 ],
 "metadata": {
  "kernelspec": {
   "display_name": "Python 3",
   "language": "python",
   "name": "python3"
  },
  "language_info": {
   "codemirror_mode": {
    "name": "ipython",
    "version": 3
   },
   "file_extension": ".py",
   "mimetype": "text/x-python",
   "name": "python",
   "nbconvert_exporter": "python",
   "pygments_lexer": "ipython3",
   "version": "3.11.11"
  }
 },
 "nbformat": 4,
 "nbformat_minor": 5
}
