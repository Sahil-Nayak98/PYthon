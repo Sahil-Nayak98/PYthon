{
 "cells": [
  {
   "cell_type": "code",
   "execution_count": null,
   "id": "71de23ce",
   "metadata": {},
   "outputs": [],
   "source": [
    "## Common Operator Obverloading magic methods\n",
    "'''\n",
    "__add__(self,other): adds two objects using + operator\n",
    "__sub__(self,other): Subtarcts two objects using the - operator \n",
    "__mul__(self,other): Multiplies two objects using the * operator\n",
    "__truediv__(self,others): Divides two objects using the / operator.\n",
    "__eq__(self,other): Checks if Two objects are equal using the == operator.\n",
    "__lt__(self,other): Checks if one object is less than another using the < operator. \n",
    "__gt__(self,other):Checks if one object is greater than another using > operator.\n",
    "'''"
   ]
  },
  {
   "cell_type": "code",
   "execution_count": 2,
   "id": "518b93af",
   "metadata": {},
   "outputs": [
    {
     "name": "stdout",
     "output_type": "stream",
     "text": [
      "Vector(6,8)\n",
      "Vector(8,15)\n"
     ]
    }
   ],
   "source": [
    "class Vector:\n",
    "    def __init__(self,x,y):\n",
    "        self.x=x\n",
    "        self.y=y\n",
    "\n",
    "    def __add__(self,other):\n",
    "        return Vector(self.x + other.x,self.y + other.y)\n",
    "\n",
    "    def __sub__(self,other):\n",
    "        return Vector(self.x - other.x,self.y - other.y)\n",
    "\n",
    "    def __mul__(self,other):\n",
    "        return Vector(self.x * other.x, self.y * other.y)\n",
    "\n",
    "    def __eq__(self,other):\n",
    "        return self.x == other.x, self.y == other.y\n",
    "\n",
    "    def __repr__(self):\n",
    "        return f\"Vector({self.x},{self.y})\"\n",
    "\n",
    "v1=Vector(2,3)\n",
    "v2=Vector(4,5)\n",
    "\n",
    "print(v1+v2)\n",
    "print(v1*v2)\n"
   ]
  },
  {
   "cell_type": "code",
   "execution_count": null,
   "id": "1af54456",
   "metadata": {},
   "outputs": [],
   "source": [
    "## Assignment carry the above for complex numbers..."
   ]
  },
  {
   "cell_type": "code",
   "execution_count": null,
   "id": "ab75b2bb",
   "metadata": {},
   "outputs": [],
   "source": []
  },
  {
   "cell_type": "code",
   "execution_count": null,
   "id": "ce6d9fe5",
   "metadata": {},
   "outputs": [],
   "source": []
  },
  {
   "cell_type": "code",
   "execution_count": null,
   "id": "26dfb81d",
   "metadata": {},
   "outputs": [],
   "source": []
  }
 ],
 "metadata": {
  "kernelspec": {
   "display_name": "Python 3",
   "language": "python",
   "name": "python3"
  },
  "language_info": {
   "codemirror_mode": {
    "name": "ipython",
    "version": 3
   },
   "file_extension": ".py",
   "mimetype": "text/x-python",
   "name": "python",
   "nbconvert_exporter": "python",
   "pygments_lexer": "ipython3",
   "version": "3.11.11"
  }
 },
 "nbformat": 4,
 "nbformat_minor": 5
}
