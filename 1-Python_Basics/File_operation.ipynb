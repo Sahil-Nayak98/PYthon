{
 "cells": [
  {
   "cell_type": "code",
   "execution_count": 1,
   "id": "0f05440d",
   "metadata": {},
   "outputs": [
    {
     "name": "stdout",
     "output_type": "stream",
     "text": [
      "hello World HOW are you\n",
      "mY NAme is SAhil\n",
      "my mothers name is tanushree\n"
     ]
    }
   ],
   "source": [
    "## read a whole file\n",
    "with open('sample.txt','r') as file:\n",
    "    content=file.read()\n",
    "    print(content)"
   ]
  },
  {
   "cell_type": "code",
   "execution_count": 1,
   "id": "894cfd3b",
   "metadata": {},
   "outputs": [],
   "source": [
    "## writing a file\n",
    "with open('sample.txt','w') as file:\n",
    "    file.write('hello world!\\n')"
   ]
  },
  {
   "cell_type": "code",
   "execution_count": 3,
   "id": "99d01098",
   "metadata": {},
   "outputs": [],
   "source": [
    "## writing in file without overriding prev contents\n",
    "with open('sample.txt','a') as file:\n",
    "    file.write(\"no more over riding\\n\")"
   ]
  },
  {
   "cell_type": "code",
   "execution_count": 4,
   "id": "c3c87ce6",
   "metadata": {},
   "outputs": [],
   "source": [
    "# writing a list of lines to a file\n",
    "lines=[\"first line\\n\",\"second line\\n\",\"third line\\n\"]\n",
    "with open('sample.txt','a') as file:\n",
    "    file.writelines(lines)"
   ]
  },
  {
   "cell_type": "code",
   "execution_count": 5,
   "id": "df33b111",
   "metadata": {},
   "outputs": [],
   "source": [
    "## read content from source file and write to destination file\n",
    "with open('sample.txt','r') as source_file:\n",
    "    content=source_file.read()\n",
    "\n",
    "\n",
    "with open('destination.txt','w') as dest_file:\n",
    "    dest_file.write(content)\n"
   ]
  },
  {
   "cell_type": "code",
   "execution_count": 6,
   "id": "0a8202ef",
   "metadata": {},
   "outputs": [
    {
     "name": "stdout",
     "output_type": "stream",
     "text": [
      "lines:5, Words:13,characters:76\n"
     ]
    }
   ],
   "source": [
    "### Assignment\n",
    "# read a text file and count the number of lines,words and characters\n",
    "\n",
    "def count_text_file(filepath):\n",
    "    with open(filepath,'r') as file:\n",
    "        lines=file.readlines()\n",
    "        line_count=len(lines)\n",
    "        word_count=sum(len(line.split())for line in lines)\n",
    "        char_count=sum(len(line)for line in lines)\n",
    "    return line_count,word_count,char_count\n",
    "\n",
    "filepath='sample.txt'\n",
    "lines,words,chars=count_text_file(filepath)\n",
    "print(f'lines:{lines}, Words:{words},characters:{chars}')     "
   ]
  },
  {
   "cell_type": "code",
   "execution_count": 8,
   "id": "2e4aff4f",
   "metadata": {},
   "outputs": [],
   "source": [
    "## writing and then reading a file\n",
    "with open('example.txt','w+') as file:\n",
    "    file.write(\"hello world\\n\")\n",
    "    file.write(\"this ia newline\\n\")\n",
    "    file.seek(0)\n",
    "\n"
   ]
  },
  {
   "cell_type": "code",
   "execution_count": 2,
   "id": "15654939",
   "metadata": {},
   "outputs": [
    {
     "name": "stdout",
     "output_type": "stream",
     "text": [
      "directory'OS'created\n"
     ]
    }
   ],
   "source": [
    "## create new directory\n",
    "import os\n",
    "new_directory=\"OS\"\n",
    "os.mkdir(new_directory)\n",
    "print(F\"directory'{new_directory}'created\")"
   ]
  },
  {
   "cell_type": "code",
   "execution_count": 4,
   "id": "c5c93dd0",
   "metadata": {},
   "outputs": [
    {
     "name": "stdout",
     "output_type": "stream",
     "text": [
      "['destination.txt', 'Dict.ipynb', 'example.csv', 'example.txt', 'File_operation.ipynb', 'Function.ipynb', 'List.ipynb', 'OS', 'Package', 'sample.bin', 'sample.txt', 'Standard_lib.ipynb', 'test.ipynb', 'TUPLE.ipynb']\n"
     ]
    }
   ],
   "source": [
    "## listing files and directories\n",
    "item=os.listdir('.')\n",
    "print(item)"
   ]
  },
  {
   "cell_type": "code",
   "execution_count": 6,
   "id": "5fcbd900",
   "metadata": {},
   "outputs": [
    {
     "name": "stdout",
     "output_type": "stream",
     "text": [
      "c:\\Users\\nayak\\Documents\\PYthon\\1-Python_Basics\\Folder\\file.txt\n"
     ]
    }
   ],
   "source": [
    "## joining path\n",
    "dir_name=\"Folder\"\n",
    "file_name=\"file.txt\"\n",
    "full_path=os.path.join(os.getcwd(),dir_name,file_name)\n",
    "print(full_path)"
   ]
  },
  {
   "cell_type": "code",
   "execution_count": null,
   "id": "e579263e",
   "metadata": {},
   "outputs": [],
   "source": [
    "dir_name=\"Folder\"\n",
    "file_name=\"file.txt\"\n",
    "full_path=os.path.join(dir_name,file_name)\n",
    "print(full_path)"
   ]
  },
  {
   "cell_type": "code",
   "execution_count": 9,
   "id": "7d9708c2",
   "metadata": {},
   "outputs": [
    {
     "name": "stdout",
     "output_type": "stream",
     "text": [
      "path 'example.txt does not exist\n"
     ]
    }
   ],
   "source": [
    "path='example.txt'\n",
    "if os.path.exists(path):\n",
    "    print(f\"path'{path}'exists\")\n",
    "else:\n",
    "    print(f\"path '{path} does not exist\")"
   ]
  },
  {
   "cell_type": "code",
   "execution_count": 10,
   "id": "9e6365b9",
   "metadata": {},
   "outputs": [
    {
     "name": "stdout",
     "output_type": "stream",
     "text": [
      "path 'example.txt' is neither a file nor a directoryt\n"
     ]
    }
   ],
   "source": [
    "# checking if a path is file or directory \n",
    "path='example.txt'\n",
    "if os.path.isfile(path):\n",
    "    print(f\"path'{path}'is a file\")\n",
    "elif os.path.isdir(path):\n",
    "    print(f\"path '{path}' is a directory\")\n",
    "else:\n",
    "    print(f\"path '{path}' is neither a file nor a directoryt\")    \n"
   ]
  },
  {
   "cell_type": "code",
   "execution_count": 11,
   "id": "8662b109",
   "metadata": {},
   "outputs": [
    {
     "name": "stdout",
     "output_type": "stream",
     "text": [
      "c:\\Users\\nayak\\Documents\\PYthon\\1-Python_Basics\\example.txt\n"
     ]
    }
   ],
   "source": [
    "## getting absolute path\n",
    "relative_path='example.txt'\n",
    "absolute_path=os.path.abspath(relative_path)\n",
    "print(absolute_path)"
   ]
  },
  {
   "cell_type": "code",
   "execution_count": null,
   "id": "c5f6b7e3",
   "metadata": {},
   "outputs": [],
   "source": []
  }
 ],
 "metadata": {
  "kernelspec": {
   "display_name": "Python 3",
   "language": "python",
   "name": "python3"
  },
  "language_info": {
   "codemirror_mode": {
    "name": "ipython",
    "version": 3
   },
   "file_extension": ".py",
   "mimetype": "text/x-python",
   "name": "python",
   "nbconvert_exporter": "python",
   "pygments_lexer": "ipython3",
   "version": "3.11.11"
  }
 },
 "nbformat": 4,
 "nbformat_minor": 5
}
