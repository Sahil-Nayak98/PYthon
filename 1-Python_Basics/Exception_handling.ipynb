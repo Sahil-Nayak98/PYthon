{
 "cells": [
  {
   "cell_type": "code",
   "execution_count": 1,
   "id": "70bf9dd5",
   "metadata": {},
   "outputs": [
    {
     "name": "stdout",
     "output_type": "stream",
     "text": [
      "name 'b' is not defined\n"
     ]
    }
   ],
   "source": [
    "## try , except block\n",
    "try:\n",
    "    a=b\n",
    "except NameError as ex:\n",
    "    print(ex)     "
   ]
  },
  {
   "cell_type": "code",
   "execution_count": 2,
   "id": "a7ccddf7",
   "metadata": {},
   "outputs": [
    {
     "name": "stdout",
     "output_type": "stream",
     "text": [
      "division by zero\n"
     ]
    }
   ],
   "source": [
    "try:\n",
    "    result=1/0\n",
    "except ZeroDivisionError as ze:\n",
    "    print(ze)    "
   ]
  },
  {
   "cell_type": "code",
   "execution_count": 5,
   "id": "8c6c0e37",
   "metadata": {},
   "outputs": [
    {
     "name": "stdout",
     "output_type": "stream",
     "text": [
      "name 'b' is not defined\n"
     ]
    }
   ],
   "source": [
    "## handle any exception\n",
    "try:\n",
    "    result=2/3\n",
    "    a=b\n",
    "    sahil==1\n",
    "except ZeroDivisionError as ze:\n",
    "    print(ze)    \n",
    "except Exception as ex:\n",
    "    print(ex)   "
   ]
  },
  {
   "cell_type": "code",
   "execution_count": null,
   "id": "c4b66cb7",
   "metadata": {},
   "outputs": [],
   "source": []
  },
  {
   "cell_type": "code",
   "execution_count": null,
   "id": "fd768763",
   "metadata": {},
   "outputs": [],
   "source": []
  }
 ],
 "metadata": {
  "kernelspec": {
   "display_name": "Python 3",
   "language": "python",
   "name": "python3"
  },
  "language_info": {
   "codemirror_mode": {
    "name": "ipython",
    "version": 3
   },
   "file_extension": ".py",
   "mimetype": "text/x-python",
   "name": "python",
   "nbconvert_exporter": "python",
   "pygments_lexer": "ipython3",
   "version": "3.11.11"
  }
 },
 "nbformat": 4,
 "nbformat_minor": 5
}
