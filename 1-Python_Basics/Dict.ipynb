{
 "cells": [
  {
   "cell_type": "markdown",
   "id": "2e9c1593",
   "metadata": {},
   "source": [
    "DICTIONARIES"
   ]
  },
  {
   "cell_type": "code",
   "execution_count": 2,
   "id": "b04027d5",
   "metadata": {},
   "outputs": [
    {
     "name": "stdout",
     "output_type": "stream",
     "text": [
      "<class 'dict'>\n"
     ]
    }
   ],
   "source": [
    "# create dictionary\n",
    "empty_dict={}\n",
    "print(type(empty_dict))"
   ]
  },
  {
   "cell_type": "code",
   "execution_count": 2,
   "id": "a7e702ee",
   "metadata": {},
   "outputs": [
    {
     "name": "stdout",
     "output_type": "stream",
     "text": [
      "{'name': 'sahil', 'age': 22, 'grade': 'A'}\n"
     ]
    }
   ],
   "source": [
    "# KEYS should be unique\n",
    "# accessing dictionary elements\n",
    "student={\"name\":\"sahil\",\"age\": 22,\"grade\":\"A\"}\n",
    "print(student)"
   ]
  },
  {
   "cell_type": "code",
   "execution_count": 5,
   "id": "cb5fb6a9",
   "metadata": {},
   "outputs": [
    {
     "name": "stdout",
     "output_type": "stream",
     "text": [
      "A\n",
      "sahil\n"
     ]
    }
   ],
   "source": [
    "print(student[\"grade\"])\n",
    "print(student[\"name\"])"
   ]
  },
  {
   "cell_type": "code",
   "execution_count": 5,
   "id": "01fbe153",
   "metadata": {},
   "outputs": [
    {
     "name": "stdout",
     "output_type": "stream",
     "text": [
      "A\n",
      "not defined\n"
     ]
    }
   ],
   "source": [
    "print(student.get(\"grade\"))\n",
    "print(student.get(\"lst_name\",\"not defined\"))# specific message for elements not mentioned in dict#"
   ]
  },
  {
   "cell_type": "code",
   "execution_count": 10,
   "id": "dcfa3d62",
   "metadata": {},
   "outputs": [
    {
     "name": "stdout",
     "output_type": "stream",
     "text": [
      "{'name': 'sahil', 'age': 22, 'grade': 'A'}\n"
     ]
    }
   ],
   "source": [
    "#dictionary elements are mutable\n",
    "print(student)"
   ]
  },
  {
   "cell_type": "code",
   "execution_count": 11,
   "id": "fe5ba9db",
   "metadata": {},
   "outputs": [
    {
     "name": "stdout",
     "output_type": "stream",
     "text": [
      "{'name': 'sahil', 'age': 23, 'grade': 'A'}\n"
     ]
    }
   ],
   "source": [
    "student[\"age\"]=23\n",
    "print(student)"
   ]
  },
  {
   "cell_type": "code",
   "execution_count": null,
   "id": "a1e21ccf",
   "metadata": {},
   "outputs": [
    {
     "name": "stdout",
     "output_type": "stream",
     "text": [
      "{'name': 'sahil', 'grade': 'A'}\n"
     ]
    }
   ],
   "source": [
    "del student[\"age\"]# deletion\n",
    "print(student)"
   ]
  },
  {
   "cell_type": "code",
   "execution_count": 13,
   "id": "085b3e25",
   "metadata": {},
   "outputs": [
    {
     "name": "stdout",
     "output_type": "stream",
     "text": [
      "dict_keys(['name', 'grade'])\n",
      "dict_values(['sahil', 'A'])\n",
      "dict_items([('name', 'sahil'), ('grade', 'A')])\n"
     ]
    }
   ],
   "source": [
    "#dictionary methods \n",
    "keys=student.keys()\n",
    "print(keys)\n",
    "values=student.values()\n",
    "print(values)\n",
    "items=student.items()\n",
    "print(items)"
   ]
  },
  {
   "cell_type": "code",
   "execution_count": 15,
   "id": "26e752ac",
   "metadata": {},
   "outputs": [
    {
     "name": "stdout",
     "output_type": "stream",
     "text": [
      "{'name': 'sahil', 'grade': 'A'}\n",
      "{'name': 'sahil', 'grade': 'A'}\n"
     ]
    }
   ],
   "source": [
    "# shallow copy\n",
    "stud_copy=student\n",
    "print(stud_copy)\n",
    "print(student)"
   ]
  },
  {
   "cell_type": "code",
   "execution_count": null,
   "id": "c897abb1",
   "metadata": {},
   "outputs": [
    {
     "name": "stdout",
     "output_type": "stream",
     "text": [
      "{'name': 'ram', 'grade': 'A'}\n",
      "{'name': 'ram', 'grade': 'A'}\n"
     ]
    }
   ],
   "source": [
    "student[\"name\"]=\"ram\"\n",
    "print(stud_copy)\n",
    "print(student)\n",
    "# both dict got changed to prevent tht we do shallow copy"
   ]
  },
  {
   "cell_type": "code",
   "execution_count": 17,
   "id": "46476a79",
   "metadata": {},
   "outputs": [
    {
     "name": "stdout",
     "output_type": "stream",
     "text": [
      "{'name': 'ram', 'grade': 'B'}\n",
      "{'name': 'ram', 'grade': 'A'}\n"
     ]
    }
   ],
   "source": [
    "#shallow copy\n",
    "stud_cop=student.copy()## this function allocates a different memory loc #\n",
    "student[\"grade\"]=\"B\"\n",
    "print(student)\n",
    "print(stud_cop) "
   ]
  },
  {
   "cell_type": "code",
   "execution_count": null,
   "id": "5214c0ec",
   "metadata": {},
   "outputs": [],
   "source": [
    "# iterate over dictionaries"
   ]
  },
  {
   "cell_type": "code",
   "execution_count": null,
   "id": "9d7d54dc",
   "metadata": {},
   "outputs": [],
   "source": []
  },
  {
   "cell_type": "code",
   "execution_count": null,
   "id": "fb79dedf",
   "metadata": {},
   "outputs": [],
   "source": []
  }
 ],
 "metadata": {
  "kernelspec": {
   "display_name": "Python 3",
   "language": "python",
   "name": "python3"
  },
  "language_info": {
   "codemirror_mode": {
    "name": "ipython",
    "version": 3
   },
   "file_extension": ".py",
   "mimetype": "text/x-python",
   "name": "python",
   "nbconvert_exporter": "python",
   "pygments_lexer": "ipython3",
   "version": "3.11.11"
  }
 },
 "nbformat": 4,
 "nbformat_minor": 5
}
