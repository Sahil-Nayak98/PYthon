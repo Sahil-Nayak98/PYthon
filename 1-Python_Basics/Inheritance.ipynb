{
 "cells": [
  {
   "cell_type": "code",
   "execution_count": 1,
   "id": "19853893",
   "metadata": {},
   "outputs": [],
   "source": [
    "## inheritance\n",
    "class Car:\n",
    "    def __init__(self,windows,doors,enginetyp):\n",
    "        self.windows=windows\n",
    "        self.doors=doors\n",
    "        self.enginetyp=enginetyp\n",
    "\n",
    "    def drive(self):\n",
    "        print(f\"The person will drive the {self.enginetyp} car\")\n",
    "        \n",
    "            "
   ]
  },
  {
   "cell_type": "code",
   "execution_count": 2,
   "id": "28404978",
   "metadata": {},
   "outputs": [
    {
     "name": "stdout",
     "output_type": "stream",
     "text": [
      "The person will drive the diesel car\n"
     ]
    }
   ],
   "source": [
    "car1=Car(4,5,\"diesel\")\n",
    "car1.drive()"
   ]
  },
  {
   "cell_type": "code",
   "execution_count": 3,
   "id": "65da1943",
   "metadata": {},
   "outputs": [],
   "source": [
    "class Tesla(Car):\n",
    "    def __init__(self,windows,doors,enginetyp,is_selfdrive):\n",
    "        super().__init__(windows,doors,enginetyp)\n",
    "        self.is_selfdrive=is_selfdrive\n",
    "\n",
    "    def selfdriving(self):\n",
    "        print(f\" tesla supports self driving:{self.is_selfdrive}\")\n",
    "        \n",
    "            "
   ]
  },
  {
   "cell_type": "code",
   "execution_count": 5,
   "id": "0c23b089",
   "metadata": {},
   "outputs": [
    {
     "name": "stdout",
     "output_type": "stream",
     "text": [
      "The person will drive the electric car\n",
      " tesla supports self driving:True\n"
     ]
    }
   ],
   "source": [
    "tesla1=Tesla(4,5,\"electric\",True)\n",
    "tesla1.drive()\n",
    "tesla1.selfdriving()"
   ]
  },
  {
   "cell_type": "code",
   "execution_count": null,
   "id": "e949d325",
   "metadata": {},
   "outputs": [],
   "source": [
    "### multiple inheritance\n",
    "# when a class inherits from more than one base class\n",
    "## small updations like child class(parent1,parent2)\n",
    "## while inheriting the variables of parent we can write \n",
    "# parent class1 or 2.__init__ instead of super() \n"
   ]
  },
  {
   "cell_type": "code",
   "execution_count": null,
   "id": "64dcec54",
   "metadata": {},
   "outputs": [],
   "source": []
  },
  {
   "cell_type": "code",
   "execution_count": null,
   "id": "22abd811",
   "metadata": {},
   "outputs": [],
   "source": []
  }
 ],
 "metadata": {
  "kernelspec": {
   "display_name": "Python 3",
   "language": "python",
   "name": "python3"
  },
  "language_info": {
   "codemirror_mode": {
    "name": "ipython",
    "version": 3
   },
   "file_extension": ".py",
   "mimetype": "text/x-python",
   "name": "python",
   "nbconvert_exporter": "python",
   "pygments_lexer": "ipython3",
   "version": "3.11.11"
  }
 },
 "nbformat": 4,
 "nbformat_minor": 5
}
