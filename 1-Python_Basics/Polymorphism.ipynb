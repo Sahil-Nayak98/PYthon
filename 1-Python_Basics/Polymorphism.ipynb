{
 "cells": [
  {
   "cell_type": "code",
   "execution_count": 4,
   "id": "f8103b5d",
   "metadata": {},
   "outputs": [
    {
     "name": "stdout",
     "output_type": "stream",
     "text": [
      "woff!\n",
      "meow!!\n",
      "woff!\n"
     ]
    }
   ],
   "source": [
    "## Method Overriding\n",
    "## base class\n",
    "class Animal:\n",
    "    def speak(self):\n",
    "        return \"sound of animal\"\n",
    "\n",
    "## derived class\n",
    "class Dog(Animal):\n",
    "    def speak(self):\n",
    "        return\"woff!\"\n",
    "\n",
    "class Cat(Animal):\n",
    "    def speak(self):\n",
    "        return \"meow!!\"\n",
    "\n",
    "## function to demonstrate polymorphism\n",
    "def Animal_speak(animal):\n",
    "    print(animal.speak())\n",
    "\n",
    "\n",
    "\n",
    "dog= Dog()\n",
    "cat= Cat()\n",
    "print(dog.speak())\n",
    "print(cat.speak())\n",
    "Animal_speak(dog)                        "
   ]
  },
  {
   "cell_type": "code",
   "execution_count": 7,
   "id": "ce1799a7",
   "metadata": {},
   "outputs": [
    {
     "name": "stdout",
     "output_type": "stream",
     "text": [
      "Area is : 20\n",
      "Area is : 28.259999999999998\n"
     ]
    }
   ],
   "source": [
    "### polymorphism with functions and methods\n",
    "class Shape:\n",
    "    def area(self):\n",
    "        return \"area of figure\"\n",
    "\n",
    "class Rectangle(Shape):\n",
    "    def __init__(self,width,height):\n",
    "        self.width=width\n",
    "        self.height=height\n",
    "\n",
    "    def area(self):\n",
    "        return ( self.width * self.height)\n",
    "\n",
    "class Circle(Shape):\n",
    "    def __init__(self,radius):\n",
    "        self.radius=radius\n",
    "\n",
    "    def area(self):\n",
    "        return ( 3.14 * self.radius *self.radius)\n",
    "\n",
    "## function to show polymorphism\n",
    "def print_area(shape):\n",
    "    print(f\"Area is : {shape.area()}\") \n",
    "\n",
    "rect=Rectangle(4,5)\n",
    "circle=Circle(3)\n",
    "print_area(rect)\n",
    "print_area(circle)"
   ]
  },
  {
   "cell_type": "code",
   "execution_count": null,
   "id": "faa441a5",
   "metadata": {},
   "outputs": [
    {
     "name": "stdout",
     "output_type": "stream",
     "text": [
      "car engine started\n",
      "motor engine started\n"
     ]
    }
   ],
   "source": [
    "## polymorphism with abstract base class\n",
    "from abc import ABC,abstractmethod\n",
    "\n",
    "\n",
    "## define Abstract class\n",
    "class Vehicle(ABC):\n",
    "    @abstractmethod\n",
    "    def start_engine(self):\n",
    "        pass\n",
    "\n",
    "## derived class 1\n",
    "class Car(Vehicle):\n",
    "    def start_engine(self):\n",
    "        return \"car engine started\"\n",
    "\n",
    "## derived class 2\n",
    "class Motor(Vehicle):\n",
    "    def start_engine(self):\n",
    "        return \"motor engine started\"\n",
    "\n",
    "## Polymorphism ka matlab hota hai: same function,\n",
    "### but different behavior depending on object type.\n",
    "def start_vehicle(vehicle):\n",
    "    print(vehicle.start_engine())\n",
    "\n",
    "\n",
    "### 🔁 Simple definition:\n",
    "## Abstract method = sirf naam hota hai, kaam nahi.\n",
    "\n",
    "##Subclass = must override this method.\n",
    "\n",
    "##Agar subclass us method ko implement nahi karta,\n",
    "#  toh error aata hai.\n",
    "car=Car()\n",
    "motor=Motor()\n",
    "start_vehicle(car)\n",
    "start_vehicle(motor)"
   ]
  },
  {
   "cell_type": "code",
   "execution_count": null,
   "id": "ffa6291a",
   "metadata": {},
   "outputs": [],
   "source": []
  },
  {
   "cell_type": "code",
   "execution_count": null,
   "id": "10f448ef",
   "metadata": {},
   "outputs": [],
   "source": []
  },
  {
   "cell_type": "code",
   "execution_count": null,
   "id": "fa611f12",
   "metadata": {},
   "outputs": [],
   "source": []
  },
  {
   "cell_type": "code",
   "execution_count": null,
   "id": "0c83d7fd",
   "metadata": {},
   "outputs": [],
   "source": []
  }
 ],
 "metadata": {
  "kernelspec": {
   "display_name": "Python 3",
   "language": "python",
   "name": "python3"
  },
  "language_info": {
   "codemirror_mode": {
    "name": "ipython",
    "version": 3
   },
   "file_extension": ".py",
   "mimetype": "text/x-python",
   "name": "python",
   "nbconvert_exporter": "python",
   "pygments_lexer": "ipython3",
   "version": "3.11.11"
  }
 },
 "nbformat": 4,
 "nbformat_minor": 5
}
